{
 "cells": [
  {
   "cell_type": "code",
   "execution_count": 1,
   "id": "2f12f49a-55dd-474d-8798-64ef43934e92",
   "metadata": {},
   "outputs": [],
   "source": [
    "import numpy as np\n",
    "import matplotlib.pyplot as plt\n",
    "from scipy.ndimage import convolve, generate_binary_structure\n",
    "from tqdm import tqdm"
   ]
  },
  {
   "cell_type": "markdown",
   "id": "4d9d3ee4-d1a4-4110-b370-8cd2628b606b",
   "metadata": {},
   "source": [
    "# Modelo de Ising\n",
    "\n",
    "Considere el modelo de Ising en dos dimensiones en red cuadrada, con hamiltoniano \n",
    "\n",
    "\\begin{equation}\n",
    "    H = -J \\sum_{\\left \\langle i,j \\right \\rangle} s_i s_j\n",
    "    \\label{1}\n",
    "\\end{equation} \n",
    "\n",
    "donde $s_i$ es el espin de una sola partícula en la red (ya sea -1 o 1) y la suma de $<i,j>$ significa sumar los vecinos más cercanos para todos los puntos en la red. $\\mu$ corresponde a una configuración particular de los giros.\n"
   ]
  },
  {
   "cell_type": "markdown",
   "id": "afb0f743-aab0-4842-a29d-85eea9b2e116",
   "metadata": {},
   "source": [
    "Se crean dos redes random. Una será la inversa de la otra para ver cómo evolucionan."
   ]
  },
  {
   "cell_type": "code",
   "execution_count": 2,
   "id": "36e1389e-f1cb-4f38-81fc-710884757546",
   "metadata": {},
   "outputs": [],
   "source": [
    "#Dimensión de la red\n",
    "N=10\n",
    "#Crea una red de espines al azar, esta red suele estar neutra(la mitad de espines hacia arriba y la otra hacia abajo)\n",
    "def red_espines(N, M):\n",
    "    return np.random.choice([-1, 1], size=(N, M))\n",
    "#Red de espines\n",
    "red_n=red_espines(N,N)\n",
    "#Red de espines inversa\n",
    "red_p=red_n*-1"
   ]
  },
  {
   "cell_type": "markdown",
   "id": "5fb32b1f-f70a-4378-96a3-c163f35134f0",
   "metadata": {},
   "source": [
    "Muestra de nuestra red de espines"
   ]
  },
  {
   "cell_type": "code",
   "execution_count": 3,
   "id": "73b79f7f-6760-4b82-93cd-4b6db739c04c",
   "metadata": {},
   "outputs": [
    {
     "name": "stdout",
     "output_type": "stream",
     "text": [
      "Cantidad de spines: 100\n"
     ]
    },
    {
     "data": {
      "image/png": "[encoded data removed]",
      "text/plain": [
       "<Figure size 432x288 with 1 Axes>"
      ]
     },
     "metadata": {
      "needs_background": "light"
     },
     "output_type": "display_data"
    }
   ],
   "source": [
    "plt.imshow(red_n)\n",
    "print(\"Cantidad de spines:\", N**2)"
   ]
  },
  {
   "cell_type": "markdown",
   "id": "b86e2292-e7ae-4aa4-935f-c7c57f2cba66",
   "metadata": {},
   "source": [
    "Función para obtener la energía adimensional $E/J = -\\frac{1}{2}\\sum_{<i,j>} s_i s_j$ teniendo en cuenta condiciones de borde periodicas"
   ]
  },
  {
   "cell_type": "code",
   "execution_count": 4,
   "id": "215e9884-4a3c-43fe-8bff-d45e2d8ce738",
   "metadata": {},
   "outputs": [],
   "source": [
    "def E_a(red):\n",
    "    # Aplica suma de vecinos más cercanos con periodicidad\n",
    "    kern = generate_binary_structure(2, 1) \n",
    "    kern[1][1] = False\n",
    "    #Se divide entre dos ya que se suma dos veces\n",
    "    arr = -0.5*red*convolve(red, kern, mode='wrap', cval=0)\n",
    "    return arr.sum()"
   ]
  },
  {
   "cell_type": "code",
   "execution_count": 5,
   "id": "1ef1620a-931a-4769-9bb7-f921f10321b5",
   "metadata": {},
   "outputs": [
    {
     "data": {
      "text/plain": [
       "12.0"
      ]
     },
     "execution_count": 5,
     "metadata": {},
     "output_type": "execute_result"
    }
   ],
   "source": [
    "E_a(red_n)"
   ]
  },
  {
   "cell_type": "markdown",
   "id": "b1983e40-4bf8-4e6a-b8f6-bb5bc3a0ccf8",
   "metadata": {},
   "source": [
    "# Algoritmo de Metropolis\n",
    "\n",
    "El algoritmo de Metropolis se basa en generar configuraciones aleatorias del sistema con peso estadístico $e^{-\\beta H}$ y usar estas para calcular promedios de las cantidades físicas de interés.\n",
    "El algoritmo es el siguiente: \n",
    "1. Se genera una configuración de espines al azar.\n",
    "2. Se selecciona un espín de la red al azar. \n",
    "3. Se calcula el cambio de la energía total del sistema $\\Delta E$ si este espín se voltea. \n",
    "4. Si $\\Delta E \\leq 0$ se acepta el cambio y se repite el proceso a partir de 2. \n",
    "5. Si $\\Delta E > 0$, se escoge un número real aleatorio p entre [0, 1] con probabilidad uniforme y si $ p < e^{-\\beta \\Delta E} $ se acepta el cambio del espín, de lo contrario no se acepta y se regresa el espín a su configuración anterior. \n",
    "6. Se repite el proceso a partir de 2. "
   ]
  },
  {
   "cell_type": "code",
   "execution_count": 6,
   "id": "a8bc4084-a540-48dc-ae74-3aba6195d49d",
   "metadata": {},
   "outputs": [],
   "source": [
    "def metropolis(red_espin, times, BJ):\n",
    "    sum_espins=np.zeros(times) #Suma de los espines\n",
    "    energias = np.zeros(times) #Array de energias\n",
    "    red= red_espin.copy() #Matriz de espines que sera cambiada\n",
    "    #Montecarlo\n",
    "    for t in range(times):\n",
    "        #Energia inicial\n",
    "        E_i=E_a(red)\n",
    "        # Escoge un espin random\n",
    "        x = np.random.randint(0,N)\n",
    "        y = np.random.randint(0,N)\n",
    "        spin_i = red[x,y] #Espin inicial\n",
    "        spin_f = spin_i*-1 #Espin volteado\n",
    "        red[x,y]=spin_f # Cambio en el espin \n",
    "        #Energia final\n",
    "        E_f = E_a(red)\n",
    "        #Diferencia de energia\n",
    "        dE = E_f-E_i\n",
    "        # Cambio de estado\n",
    "        if dE<=0:\n",
    "            sum_espins[t] = red.sum()\n",
    "            energias[t] = E_f\n",
    "        elif (dE>0)*(np.random.uniform(0, 1) < np.exp(-BJ*dE)):\n",
    "            sum_espins[t] = red.sum()\n",
    "            energias[t] = E_f\n",
    "        else:\n",
    "            red[x,y]=spin_i # El espin vuelve a ser como antes\n",
    "            sum_espins[t] = red.sum()\n",
    "            energias[t] = E_i\n",
    "    return sum_espins, energias"
   ]
  },
  {
   "cell_type": "markdown",
   "id": "676df89d-78ea-408e-ae32-527850d0bbd8",
   "metadata": {},
   "source": [
    "Nos da el arreglo de espines y energía a través de las interaciones. Teniendo en consideración que $JB_{critico}=0.8814$"
   ]
  },
  {
   "cell_type": "code",
   "execution_count": 7,
   "id": "961667b9",
   "metadata": {},
   "outputs": [],
   "source": [
    "BJc=0.8814\n",
    "BJ=1"
   ]
  },
  {
   "cell_type": "code",
   "execution_count": 8,
   "id": "c515234c-84cc-4056-b177-f626b3a96f99",
   "metadata": {},
   "outputs": [],
   "source": [
    "spins, energias = metropolis(red_n, 50000, BJ)"
   ]
  },
  {
   "cell_type": "code",
   "execution_count": 9,
   "id": "9f2bc351-6602-4d52-98ba-4c6a0cfc50f2",
   "metadata": {},
   "outputs": [
    {
     "data": {
      "image/png": "[encoded data removed]",
      "text/plain": [
       "<Figure size 864x288 with 2 Axes>"
      ]
     },
     "metadata": {
      "needs_background": "light"
     },
     "output_type": "display_data"
    }
   ],
   "source": [
    "T_Tc=BJc/BJ\n",
    "fig, axes = plt.subplots(1, 2, figsize=(12,4))\n",
    "ax = axes[0]\n",
    "ax.plot(spins/N**2)\n",
    "ax.set_xlabel('Numero de pasos del algoritmo')\n",
    "ax.set_ylabel(r'Magnetización $\\bar{m}$')\n",
    "ax.grid()\n",
    "ax = axes[1]\n",
    "ax.plot(energias)\n",
    "ax.set_xlabel('Numero de pasos del Algoritmo')\n",
    "ax.set_ylabel(r'Energia $E/J$')\n",
    "ax.grid()\n",
    "fig.tight_layout()\n",
    "fig.suptitle(f'Evolución de la Magnetización y la Energía para T={T_Tc:.2f} Tc', y=1.07, size=18)\n",
    "plt.show()"
   ]
  },
  {
   "cell_type": "markdown",
   "id": "077d52af-98da-4fdd-92b1-dbb942a7d201",
   "metadata": {},
   "source": [
    "Aquí obtengo $\\bar{m}$ y $E/J$ para diferentes valores de $\\beta J$. Se toman en cuenta solamente el promedio de los últimos 10 mil datos.\n"
   ]
  },
  {
   "cell_type": "code",
   "execution_count": 10,
   "id": "60708896-44df-4824-97d2-6b39447935e9",
   "metadata": {},
   "outputs": [
    {
     "name": "stdout",
     "output_type": "stream",
     "text": [
      "[0.25       0.26458333 0.27916667 0.29375    0.30833333 0.32291667\n",
      " 0.3375     0.35208333 0.36666667 0.38125    0.39583333 0.41041667\n",
      " 0.425      0.43958333 0.45416667 0.46875    0.48333333 0.49791667\n",
      " 0.5125     0.52708333 0.54166667 0.55625    0.57083333 0.58541667\n",
      " 0.6        0.3        0.38947368 0.47894737 0.56842105 0.65789474\n",
      " 0.74736842 0.83684211 0.92631579 1.01578947 1.10526316 1.19473684\n",
      " 1.28421053 1.37368421 1.46315789 1.55263158 1.64210526 1.73157895\n",
      " 1.82105263 1.91052632 2.        ]\n"
     ]
    },
    {
     "name": "stderr",
     "output_type": "stream",
     "text": [
      "100%|██████████| 45/45 [10:15<00:00, 13.67s/it]\n",
      "100%|██████████| 45/45 [05:34<00:00,  7.44s/it]\n"
     ]
    }
   ],
   "source": [
    "def cambio_BJ(red, BJs):\n",
    "    ms = np.zeros(len(BJs))\n",
    "    E_means = np.zeros(len(BJs))\n",
    "    #Da estimado de cuanto demora el código\n",
    "    for i in tqdm(range(len(BJs))):\n",
    "        spins, energies = metropolis(red, 50000, BJs[i])\n",
    "        ms[i] = spins[-10000:].mean()/N**2\n",
    "        E_means[i] = energies[-10000:].mean()\n",
    "    return ms, E_means\n",
    "b=np.linspace(0.3,2,20)\n",
    "a=np.linspace(0.25,0.60,25)\n",
    "BJs=np.concatenate((a,b))\n",
    "print(BJs)\n",
    "ms_n, E_means_n= cambio_BJ(red_n, BJs)\n",
    "ms_p, E_means_p= cambio_BJ(red_p, BJs)"
   ]
  },
  {
   "cell_type": "markdown",
   "id": "f62d1e55-e005-40f0-9d3e-646f4a509191",
   "metadata": {},
   "source": [
    "Mirando  $\\bar{m}$ como una función de la temperatura sobre la temperatura critica $T/T_c = JB_c / JB $"
   ]
  },
  {
   "cell_type": "code",
   "execution_count": 11,
   "id": "f8fe20f6",
   "metadata": {},
   "outputs": [
    {
     "name": "stdout",
     "output_type": "stream",
     "text": [
      "[3.5256     3.33127559 3.15725373 3.00051064 2.85859459 2.72949677\n",
      " 2.61155556 2.50338462 2.40381818 2.31186885 2.22669474 2.1475736\n",
      " 2.07388235 2.00508057 1.94069725 1.88032    1.82358621 1.77017573\n",
      " 1.71980488 1.67222134 1.6272     1.58453933 1.54405839 1.50559431\n",
      " 1.469      2.938      2.26305405 1.84028571 1.55061111 1.339728\n",
      " 1.17933803 1.05324528 0.95151136 0.86769948 0.79745714 0.73773568\n",
      " 0.68633607 0.64163218 0.60239568 0.56768136 0.53675    0.5090152\n",
      " 0.48400578 0.46133884 0.4407    ]\n"
     ]
    },
    {
     "data": {
      "image/png": "[encoded data removed]",
      "text/plain": [
       "<Figure size 576x360 with 1 Axes>"
      ]
     },
     "metadata": {
      "needs_background": "light"
     },
     "output_type": "display_data"
    }
   ],
   "source": [
    "print(BJc/BJs)\n",
    "plt.figure(figsize=(8,5))\n",
    "plt.scatter(BJc/BJs, ms_n,color=\"r\")\n",
    "plt.scatter(BJc/BJs, ms_p,color=\"r\")\n",
    "plt.xlabel(r'$T/T_{c}$')\n",
    "plt.ylabel(r'$\\bar{m}$')\n",
    "plt.show()"
   ]
  },
  {
   "cell_type": "code",
   "execution_count": 12,
   "id": "be6a0b5f",
   "metadata": {},
   "outputs": [
    {
     "data": {
      "image/png": "[encoded data removed]",
      "text/plain": [
       "<Figure size 576x360 with 1 Axes>"
      ]
     },
     "metadata": {
      "needs_background": "light"
     },
     "output_type": "display_data"
    }
   ],
   "source": [
    "plt.figure(figsize=(8,5))\n",
    "plt.scatter(BJc/BJs, E_means_n,color=\"r\")\n",
    "plt.scatter(BJc/BJs, E_means_p,color=\"r\")\n",
    "plt.xlabel(r'$T/T_{c}$')\n",
    "plt.ylabel(r'$E/J$')\n",
    "plt.show()"
   ]
  },
  {
   "cell_type": "markdown",
   "id": "9126d153",
   "metadata": {},
   "source": [
    "# Pruebas para realizar la suma de los vecinos más cercanos.\n",
    "\n",
    "A continuación unas partes preliminares que realicé para lograr hacer el código correctamente."
   ]
  },
  {
   "cell_type": "code",
   "execution_count": 13,
   "id": "ddb07c52",
   "metadata": {},
   "outputs": [
    {
     "name": "stdout",
     "output_type": "stream",
     "text": [
      "[[False  True False]\n",
      " [ True False  True]\n",
      " [False  True False]] Kernel usado\n",
      "[[ 1 -1  1 -1 -1]\n",
      " [-1 -1  1 -1  1]\n",
      " [ 1  1  1 -1 -1]\n",
      " [ 1  1 -1  1 -1]\n",
      " [-1  1  1  1  1]] Red de espines\n",
      "[[-4  2  0  0  2]\n",
      " [ 2  0  0  0 -4]\n",
      " [ 0  2  0  0  0]\n",
      " [ 0  2  4 -2  2]\n",
      " [ 4  0  2  2 -2]] Suma de los vecinos\n"
     ]
    }
   ],
   "source": [
    "#Pruebas para conseguir realizar una convolución que de una matriz \"b\" que sea la suma sobre los vecinos más cercanos \n",
    "#Generamos una red al azar a\n",
    "a=red_espines(5, 5)\n",
    "#Kernel que da la condición de suma sobre los vecinos cercanos.\n",
    "k = generate_binary_structure(2, 1) \n",
    "k[1][1] = False\n",
    "print(k,\"Kernel usado\")\n",
    "#Matriz b donde cada posición corresponde a la suma de los vecinos más cercanos en la posición correspondiente con periocidad\n",
    "#mode='wrap' es lo que permite considerar la periodicidad de la red.\n",
    "b=convolve(a, k, mode='wrap', cval=0.0)\n",
    "print(a, \"Red de espines\")\n",
    "print(b, \"Suma de los vecinos\")\n",
    "#plt.imshow(random_spin_field(10, 10))"
   ]
  },
  {
   "cell_type": "code",
   "execution_count": null,
   "id": "865fe90f",
   "metadata": {},
   "outputs": [],
   "source": []
  }
 ],
 "metadata": {
  "kernelspec": {
   "display_name": "Python 3 (ipykernel)",
   "language": "python",
   "name": "python3"
  },
  "language_info": {
   "codemirror_mode": {
    "name": "ipython",
    "version": 3
   },
   "file_extension": ".py",
   "mimetype": "text/x-python",
   "name": "python",
   "nbconvert_exporter": "python",
   "pygments_lexer": "ipython3",
   "version": "3.9.7"
  }
 },
 "nbformat": 4,
 "nbformat_minor": 5
}
